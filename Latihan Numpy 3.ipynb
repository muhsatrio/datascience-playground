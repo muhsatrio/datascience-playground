{
 "cells": [
  {
   "cell_type": "code",
   "execution_count": 2,
   "metadata": {},
   "outputs": [],
   "source": [
    "import numpy as np"
   ]
  },
  {
   "cell_type": "code",
   "execution_count": 3,
   "metadata": {},
   "outputs": [
    {
     "name": "stdout",
     "output_type": "stream",
     "text": [
      "[0.84116338 0.00284053 0.25500415 0.33950687 0.24196616 0.93664547\n",
      " 0.40658957 0.88777782 0.3832386  0.3632562  0.52743432 0.91533755\n",
      " 0.29177821 0.24072705 0.08572577 0.98043784 0.97314067 0.39694432\n",
      " 0.69387881 0.27764427 0.74876611 0.06497387 0.21143868 0.80627029\n",
      " 0.94034989 0.43229306 0.54932804 0.15729957 0.26080577 0.06464099\n",
      " 0.33876286 0.32864692 0.81153381 0.55154157 0.59642831 0.16172429\n",
      " 0.64913686 0.14028171 0.341398   0.05521477 0.21177964 0.05865612\n",
      " 0.78166282 0.848091   0.77516922 0.77171864 0.74302001 0.98562556\n",
      " 0.21194079 0.02851696 0.37892897 0.73571915 0.31214935 0.25662103\n",
      " 0.83082384 0.93285569 0.36358176 0.58243335 0.7003457  0.37969648\n",
      " 0.84226441 0.6356636  0.71306356 0.60343834 0.29668237 0.91407623\n",
      " 0.24809686 0.24821266 0.19744531 0.50251424 0.68199585 0.77391771\n",
      " 0.01928006 0.42078981 0.41922495 0.24598009 0.37440764 0.66287986\n",
      " 0.7145115  0.97062653 0.98709845 0.31557758 0.0821968  0.81445642\n",
      " 0.21459218 0.91660272 0.94361787 0.18005973 0.17104341 0.49930855\n",
      " 0.01534574 0.36619647 0.47265661 0.21253114 0.35797502 0.97728469\n",
      " 0.12202541 0.42337585 0.29891502 0.63736884]\n"
     ]
    }
   ],
   "source": [
    "L = np.random.random(100)\n",
    "print(L)"
   ]
  },
  {
   "cell_type": "code",
   "execution_count": 6,
   "metadata": {},
   "outputs": [
    {
     "data": {
      "text/plain": [
       "48.63450908294535"
      ]
     },
     "execution_count": 6,
     "metadata": {},
     "output_type": "execute_result"
    }
   ],
   "source": [
    "# sum(L)\n",
    "np.sum(L) # menjumlahkan total nilai array"
   ]
  },
  {
   "cell_type": "code",
   "execution_count": 7,
   "metadata": {},
   "outputs": [
    {
     "name": "stdout",
     "output_type": "stream",
     "text": [
      "10000 loops, best of 3: 21.3 µs per loop\n"
     ]
    }
   ],
   "source": [
    "%timeit sum(L)"
   ]
  },
  {
   "cell_type": "code",
   "execution_count": 8,
   "metadata": {},
   "outputs": [
    {
     "name": "stdout",
     "output_type": "stream",
     "text": [
      "0.987098448439172\n",
      "0.002840528842058876\n",
      "48.63450908294535\n"
     ]
    }
   ],
   "source": [
    "print(L.max()) # maksimal dari L\n",
    "print(L.min()) # minimum dari L\n",
    "print(L.sum()) # total dari L"
   ]
  },
  {
   "cell_type": "markdown",
   "metadata": {},
   "source": [
    "Multidimensi"
   ]
  },
  {
   "cell_type": "code",
   "execution_count": 10,
   "metadata": {},
   "outputs": [
    {
     "name": "stdout",
     "output_type": "stream",
     "text": [
      "[[0.0182561  0.57711545 0.79056401]\n",
      " [0.18088424 0.84563629 0.81609552]\n",
      " [0.00289293 0.57154213 0.483743  ]]\n"
     ]
    }
   ],
   "source": [
    "M = np.random.random((3, 3)) # generate random 3 x 3\n",
    "print(M)"
   ]
  },
  {
   "cell_type": "code",
   "execution_count": 11,
   "metadata": {},
   "outputs": [
    {
     "data": {
      "text/plain": [
       "4.286729672709115"
      ]
     },
     "execution_count": 11,
     "metadata": {},
     "output_type": "execute_result"
    }
   ],
   "source": [
    "M.sum() # total nilai array"
   ]
  },
  {
   "cell_type": "code",
   "execution_count": 17,
   "metadata": {},
   "outputs": [
    {
     "data": {
      "text/plain": [
       "array([0.0182561 , 0.18088424, 0.00289293])"
      ]
     },
     "execution_count": 17,
     "metadata": {},
     "output_type": "execute_result"
    }
   ],
   "source": [
    "M.min(axis=1) # nilai minimal dengan orientasi dua dimensi"
   ]
  },
  {
   "cell_type": "code",
   "execution_count": null,
   "metadata": {},
   "outputs": [],
   "source": []
  }
 ],
 "metadata": {
  "kernelspec": {
   "display_name": "Python 2",
   "language": "python",
   "name": "python2"
  },
  "language_info": {
   "codemirror_mode": {
    "name": "ipython",
    "version": 2
   },
   "file_extension": ".py",
   "mimetype": "text/x-python",
   "name": "python",
   "nbconvert_exporter": "python",
   "pygments_lexer": "ipython2",
   "version": "2.7.16"
  }
 },
 "nbformat": 4,
 "nbformat_minor": 2
}
