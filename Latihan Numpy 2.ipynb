{
 "cells": [
  {
   "cell_type": "code",
   "execution_count": 1,
   "metadata": {},
   "outputs": [],
   "source": [
    "import numpy as np\n",
    "np.random.seed(0)"
   ]
  },
  {
   "cell_type": "code",
   "execution_count": 6,
   "metadata": {},
   "outputs": [
    {
     "name": "stdout",
     "output_type": "stream",
     "text": [
      "[8 1 1 7 9 9]\n",
      "[[3 6 7 2]\n",
      " [0 3 5 9]\n",
      " [4 4 6 4]]\n",
      "[[[4 3 4 4 8]\n",
      "  [4 3 7 5 5]\n",
      "  [0 1 5 9 3]\n",
      "  [0 5 0 1 2]]\n",
      "\n",
      " [[4 2 0 3 2]\n",
      "  [0 7 5 9 0]\n",
      "  [2 7 2 9 2]\n",
      "  [3 3 2 3 4]]\n",
      "\n",
      " [[1 2 9 1 4]\n",
      "  [6 8 2 3 0]\n",
      "  [0 6 0 6 3]\n",
      "  [3 8 8 8 2]]]\n"
     ]
    }
   ],
   "source": [
    "x1 = np.random.randint(10, size=6) # satu dimensi\n",
    "x2 = np.random.randint(10, size=(3, 4)) # dua dimensi\n",
    "x3 = np.random.randint(10, size=(3, 4, 5)) # tiga dimensi\n",
    "print(x1)\n",
    "print(x2)\n",
    "print(x3)"
   ]
  },
  {
   "cell_type": "code",
   "execution_count": 9,
   "metadata": {},
   "outputs": [
    {
     "name": "stdout",
     "output_type": "stream",
     "text": [
      "3\n",
      "(3, 4, 5)\n",
      "60\n"
     ]
    }
   ],
   "source": [
    "print(x3.ndim) # output berupa tingkatan dimensi\n",
    "print(x3.shape) # output berupa bentuk dimensi\n",
    "print(x3.size) # total data keseluruhan"
   ]
  },
  {
   "cell_type": "code",
   "execution_count": 13,
   "metadata": {},
   "outputs": [
    {
     "name": "stdout",
     "output_type": "stream",
     "text": [
      "int64\n",
      "48\n",
      "96\n",
      "480\n"
     ]
    }
   ],
   "source": [
    "print(x3.dtype) # tipe data array\n",
    "\n",
    "# total ukuran data (dalam byte)\n",
    "\n",
    "print(x1.nbytes)\n",
    "print(x2.nbytes)\n",
    "print(x3.nbytes)"
   ]
  },
  {
   "cell_type": "code",
   "execution_count": null,
   "metadata": {},
   "outputs": [],
   "source": []
  }
 ],
 "metadata": {
  "kernelspec": {
   "display_name": "Python 2",
   "language": "python",
   "name": "python2"
  },
  "language_info": {
   "codemirror_mode": {
    "name": "ipython",
    "version": 2
   },
   "file_extension": ".py",
   "mimetype": "text/x-python",
   "name": "python",
   "nbconvert_exporter": "python",
   "pygments_lexer": "ipython2",
   "version": "2.7.16"
  }
 },
 "nbformat": 4,
 "nbformat_minor": 2
}
