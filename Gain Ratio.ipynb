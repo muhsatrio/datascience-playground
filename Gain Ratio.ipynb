{
 "cells": [
  {
   "cell_type": "markdown",
   "metadata": {},
   "source": [
    "## Implementasi Gain Ratio\n",
    "\n",
    "By Muhammad Satrio Wicaksono\n",
    "\n",
    "Menghitung nilai gain ratio dari fitur Baterai.\n",
    "\n",
    "Sumber referensi teori: \n",
    "\n",
    "Suyanto, 2018, “Machine Learning: Tingkat Dasar dan Lanjut”, Indonesian version, Informatika publisher, Bandung, Indonesia, October 2018, ISBN: 978-602-6232-78-6."
   ]
  },
  {
   "cell_type": "code",
   "execution_count": 1,
   "metadata": {},
   "outputs": [],
   "source": [
    "import math"
   ]
  },
  {
   "cell_type": "markdown",
   "metadata": {},
   "source": [
    "### 1. Inisialisasi data"
   ]
  },
  {
   "cell_type": "code",
   "execution_count": 2,
   "metadata": {},
   "outputs": [],
   "source": [
    "data = [['H1', 'Kuat', 'Tinggi', 'Sangat Murah', 'Ya'],\n",
    "       ['H2', 'Kuat', 'Tinggi', 'Sangat Mahal', 'Ya'],\n",
    "       ['H3', 'Kuat', 'Sedang', 'Mahal', 'Ya'],\n",
    "       ['H4', 'Kuat', 'Rendah', 'Mahal', 'Tidak'],\n",
    "       ['H5', 'Cukup', 'Tinggi', 'Sangat Murah', 'Ya'],\n",
    "       ['H6', 'Cukup', 'Sedang', 'Mahal', 'Ya'],\n",
    "       ['H7', 'Cukup', 'Sedang', 'Sangat Mahal', 'Ya'],\n",
    "       ['H8', 'Cukup', 'Tinggi', 'Murah', 'Ya'],\n",
    "       ['H9', 'Cukup', 'Rendah', 'Mahal', 'Tidak'],\n",
    "       ['H10', 'Lemah', 'Tinggi', 'Sangat Murah', 'Ya'],\n",
    "       ['H11', 'Lemah', 'Tinggi', 'Sangat Mahal', 'Tidak'],\n",
    "       ['H12', 'Lemah', 'Sedang', 'Mahal', 'Tidak'],\n",
    "       ['H13', 'Lemah', 'Sedang', 'Murah', 'Tidak'],\n",
    "       ['H14', 'Lemah', 'Rendah', 'Sangat Mahal', 'Tidak'],]\n",
    "kelas = ['Ya', 'Tidak']"
   ]
  },
  {
   "cell_type": "markdown",
   "metadata": {},
   "source": [
    "### 2. Fungsi Entropy"
   ]
  },
  {
   "cell_type": "code",
   "execution_count": 3,
   "metadata": {},
   "outputs": [],
   "source": [
    "def entropy(data, idx_kelas, kelas, idx_subkelas=-1, sub_kelas=0):\n",
    "    total_data = 0\n",
    "    entropy_value = 0\n",
    "    if (sub_kelas==0):\n",
    "        total_data = len(data)\n",
    "    else:\n",
    "        for d in data:\n",
    "            if (d[idx_subkelas]==sub_kelas):\n",
    "                total_data+=1\n",
    "    \n",
    "    for k in kelas:\n",
    "        count = 0\n",
    "        for d in data:\n",
    "            if (sub_kelas==0):\n",
    "                if (d[idx_kelas]==k):\n",
    "                    count+=1\n",
    "            else:\n",
    "                if (d[idx_kelas]==k and d[idx_subkelas]==sub_kelas):\n",
    "                    count+=1\n",
    "        entropy_value+=(-((count/float(total_data)) * math.log((count/float(total_data)), 2)))\n",
    "    return entropy_value"
   ]
  },
  {
   "cell_type": "markdown",
   "metadata": {},
   "source": [
    "### 3. Fungsi Gain Ratio"
   ]
  },
  {
   "cell_type": "code",
   "execution_count": 4,
   "metadata": {},
   "outputs": [],
   "source": [
    "def gain_ratio(data, idx_kelas, kelas, idx_subkelas=-1, sub_kelas=0):\n",
    "    length = len(data)\n",
    "    information_gain_value = entropy(data, idx_kelas, kelas)\n",
    "    split_information_value = 0\n",
    "    for s in sub_kelas:\n",
    "        length_subkelas = 0\n",
    "        for d in data:\n",
    "            if (d[idx_subkelas]==s):\n",
    "                length_subkelas+=1\n",
    "        information_gain_value-=(float(length_subkelas/length) * entropy(data, idx_kelas, kelas, idx_subkelas, s))\n",
    "        split_information_value+=-((length_subkelas/length) * math.log(length_subkelas/length, 2))\n",
    "    return information_gain_value/split_information_value        "
   ]
  },
  {
   "cell_type": "code",
   "execution_count": 7,
   "metadata": {},
   "outputs": [
    {
     "name": "stdout",
     "output_type": "stream",
     "text": [
      "Nilai Gain Ratio: 0.15073571333777766\n"
     ]
    }
   ],
   "source": [
    "print(\"Nilai Gain Ratio: {}\".format(gain_ratio(data, 4, kelas, 1, ['Kuat', 'Cukup', 'Lemah'])))"
   ]
  },
  {
   "cell_type": "code",
   "execution_count": null,
   "metadata": {},
   "outputs": [],
   "source": []
  }
 ],
 "metadata": {
  "kernelspec": {
   "display_name": "Python 3",
   "language": "python",
   "name": "python3"
  },
  "language_info": {
   "codemirror_mode": {
    "name": "ipython",
    "version": 3
   },
   "file_extension": ".py",
   "mimetype": "text/x-python",
   "name": "python",
   "nbconvert_exporter": "python",
   "pygments_lexer": "ipython3",
   "version": "3.7.3"
  }
 },
 "nbformat": 4,
 "nbformat_minor": 2
}
