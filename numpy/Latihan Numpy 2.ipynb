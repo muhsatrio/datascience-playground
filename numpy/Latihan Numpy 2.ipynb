{
 "cells": [
  {
   "cell_type": "code",
   "execution_count": 2,
   "metadata": {},
   "outputs": [],
   "source": [
    "import numpy as np\n",
    "np.random.seed(0)"
   ]
  },
  {
   "cell_type": "code",
   "execution_count": 3,
   "metadata": {},
   "outputs": [
    {
     "name": "stdout",
     "output_type": "stream",
     "text": [
      "[5 0 3 3 7 9]\n",
      "[[3 5 2 4]\n",
      " [7 6 8 8]\n",
      " [1 6 7 7]]\n",
      "[[[8 1 5 9 8]\n",
      "  [9 4 3 0 3]\n",
      "  [5 0 2 3 8]\n",
      "  [1 3 3 3 7]]\n",
      "\n",
      " [[0 1 9 9 0]\n",
      "  [4 7 3 2 7]\n",
      "  [2 0 0 4 5]\n",
      "  [5 6 8 4 1]]\n",
      "\n",
      " [[4 9 8 1 1]\n",
      "  [7 9 9 3 6]\n",
      "  [7 2 0 3 5]\n",
      "  [9 4 4 6 4]]]\n"
     ]
    }
   ],
   "source": [
    "x1 = np.random.randint(10, size=6) # satu dimensi\n",
    "x2 = np.random.randint(10, size=(3, 4)) # dua dimensi\n",
    "x3 = np.random.randint(10, size=(3, 4, 5)) # tiga dimensi\n",
    "print(x1)\n",
    "print(x2)\n",
    "print(x3)"
   ]
  },
  {
   "cell_type": "code",
   "execution_count": 9,
   "metadata": {},
   "outputs": [
    {
     "name": "stdout",
     "output_type": "stream",
     "text": [
      "3\n",
      "(3, 4, 5)\n",
      "60\n"
     ]
    }
   ],
   "source": [
    "print(x3.ndim) # output berupa tingkatan dimensi\n",
    "print(x3.shape) # output berupa bentuk dimensi\n",
    "print(x3.size) # total data keseluruhan"
   ]
  },
  {
   "cell_type": "code",
   "execution_count": 13,
   "metadata": {},
   "outputs": [
    {
     "name": "stdout",
     "output_type": "stream",
     "text": [
      "int64\n",
      "48\n",
      "96\n",
      "480\n"
     ]
    }
   ],
   "source": [
    "print(x3.dtype) # tipe data array\n",
    "\n",
    "# total ukuran data (dalam byte)\n",
    "\n",
    "print(x1.nbytes)\n",
    "print(x2.nbytes)\n",
    "print(x3.nbytes)"
   ]
  },
  {
   "cell_type": "code",
   "execution_count": 17,
   "metadata": {},
   "outputs": [
    {
     "name": "stdout",
     "output_type": "stream",
     "text": [
      "[8 1 1 7 9 9]\n",
      "8\n",
      "9\n",
      "9\n"
     ]
    }
   ],
   "source": [
    "print(x1) # print array 1 dimensi\n",
    "print(x1[0]) # print array indeks pertama\n",
    "print(x1[-1]) # print array indeks paling akhir\n",
    "print(x1[-2]) # print array indeks kedua terakhir"
   ]
  },
  {
   "cell_type": "code",
   "execution_count": 24,
   "metadata": {},
   "outputs": [
    {
     "name": "stdout",
     "output_type": "stream",
     "text": [
      "3\n",
      "8\n"
     ]
    }
   ],
   "source": [
    "print (x2[0, 0]) # print indeks ke 0 0\n",
    "print (x3[0, 0, 4]) # print indeks ke 0 0 4"
   ]
  },
  {
   "cell_type": "code",
   "execution_count": 3,
   "metadata": {},
   "outputs": [
    {
     "data": {
      "text/plain": [
       "array([ 0,  1,  2,  3,  4,  5,  6,  7,  8,  9, 10, 11, 12, 13, 14, 15, 16,\n",
       "       17, 18, 19])"
      ]
     },
     "execution_count": 3,
     "metadata": {},
     "output_type": "execute_result"
    }
   ],
   "source": [
    "x = np.arange(0, 20)\n",
    "x"
   ]
  },
  {
   "cell_type": "code",
   "execution_count": 12,
   "metadata": {},
   "outputs": [
    {
     "name": "stdout",
     "output_type": "stream",
     "text": [
      "[0 1 2 3 4]\n",
      "[ 5  6  7  8  9 10 11 12 13 14 15 16 17 18 19]\n",
      "[1 2]\n",
      "[ 0  2  4  6  8 10 12 14 16 18]\n",
      "[ 1  3  5  7  9 11 13 15 17 19]\n",
      "[19 18 17 16 15 14 13 12 11 10  9  8  7  6  5  4  3  2  1  0]\n",
      "[8 7 6 5 4 3 2 1 0]\n"
     ]
    }
   ],
   "source": [
    "print(x[:5]) # lima element pertama\n",
    "print(x[5:]) # setelah indeks kelima\n",
    "print(x[1:3]) # antara indeks 1 sampai 2\n",
    "print(x[::2]) # tiap indeks ke genap\n",
    "print(x[1::2]) # tiap indeks ke genap, dimulai dari 1\n",
    "print(x[::-1]) # print dengan urutan terbalik\n",
    "print(x[8::-1]) # print terbalik dimulai dari indeks ke 8"
   ]
  },
  {
   "cell_type": "markdown",
   "metadata": {},
   "source": [
    "Multi dimensi array"
   ]
  },
  {
   "cell_type": "code",
   "execution_count": 14,
   "metadata": {},
   "outputs": [
    {
     "data": {
      "text/plain": [
       "array([[3, 5, 2, 4],\n",
       "       [7, 6, 8, 8],\n",
       "       [1, 6, 7, 7]])"
      ]
     },
     "execution_count": 14,
     "metadata": {},
     "output_type": "execute_result"
    }
   ],
   "source": [
    "x2"
   ]
  },
  {
   "cell_type": "code",
   "execution_count": 23,
   "metadata": {},
   "outputs": [
    {
     "name": "stdout",
     "output_type": "stream",
     "text": [
      "[[3 5 2]\n",
      " [7 6 8]]\n",
      "[[3 2]\n",
      " [7 8]\n",
      " [1 7]]\n",
      "[[7 7 6 1]\n",
      " [8 8 6 7]\n",
      " [4 2 5 3]]\n",
      "[3 5 2 4]\n",
      "[3 5 2 4]\n",
      "[3 7 1]\n"
     ]
    }
   ],
   "source": [
    "print(x2[:2, :3]) # print 2 x 3 matriks pertama\n",
    "print(x2[:3, ::2]) # print 3 x 2, matriks dengan indeks row genap\n",
    "print(x2[::-1, ::-1]) # reverse matriks\n",
    "# akses kolom pertama\n",
    "print(x2[0, :])\n",
    "print(x2[0])\n",
    "\n",
    "print(x2[:, 0]) # akses baris pertama"
   ]
  },
  {
   "cell_type": "code",
   "execution_count": 5,
   "metadata": {},
   "outputs": [
    {
     "name": "stdout",
     "output_type": "stream",
     "text": [
      "[[3 5]\n",
      " [7 6]]\n"
     ]
    }
   ],
   "source": [
    "x2_sub = x2[:2, :2] # menyimpan x2 2x2 ke dalam x2_sub\n",
    "print(x2_sub)"
   ]
  },
  {
   "cell_type": "code",
   "execution_count": 6,
   "metadata": {},
   "outputs": [
    {
     "name": "stdout",
     "output_type": "stream",
     "text": [
      "[[ 3  5]\n",
      " [ 7 99]]\n",
      "[[ 3  5  2  4]\n",
      " [ 7 99  8  8]\n",
      " [ 1  6  7  7]]\n"
     ]
    }
   ],
   "source": [
    "x2_sub[1, 1] = 99 # ikut teredit juga nilai x2 nya\n",
    "print(x2_sub)\n",
    "print(x2)"
   ]
  },
  {
   "cell_type": "code",
   "execution_count": 7,
   "metadata": {},
   "outputs": [
    {
     "name": "stdout",
     "output_type": "stream",
     "text": [
      "[[3]\n",
      " [7]]\n"
     ]
    }
   ],
   "source": [
    "x2_sub_copy = x2[:2, :1].copy()\n",
    "print(x2_sub_copy)"
   ]
  },
  {
   "cell_type": "code",
   "execution_count": 9,
   "metadata": {
    "scrolled": true
   },
   "outputs": [
    {
     "name": "stdout",
     "output_type": "stream",
     "text": [
      "[[1]\n",
      " [7]]\n",
      "[[ 3  5  2  4]\n",
      " [ 7 99  8  8]\n",
      " [ 1  6  7  7]]\n"
     ]
    }
   ],
   "source": [
    "x2_sub_copy[0, 0] = 1\n",
    "print(x2_sub_copy)\n",
    "print(x2)"
   ]
  },
  {
   "cell_type": "markdown",
   "metadata": {},
   "source": [
    "Membentuk ulang array"
   ]
  },
  {
   "cell_type": "code",
   "execution_count": 10,
   "metadata": {},
   "outputs": [
    {
     "name": "stdout",
     "output_type": "stream",
     "text": [
      "[[1 2 3]\n",
      " [4 5 6]\n",
      " [7 8 9]]\n"
     ]
    }
   ],
   "source": [
    "grid = np.arange(1, 10).reshape((3, 3)) # membentuk array 3 x 3 dengan nilai 1 sampai 9\n",
    "print(grid)"
   ]
  },
  {
   "cell_type": "code",
   "execution_count": 12,
   "metadata": {},
   "outputs": [
    {
     "data": {
      "text/plain": [
       "array([[1, 2, 3]])"
      ]
     },
     "execution_count": 12,
     "metadata": {},
     "output_type": "execute_result"
    }
   ],
   "source": [
    "x = np.array([1, 2, 3])\n",
    "\n",
    "x.reshape((1, 3))"
   ]
  },
  {
   "cell_type": "code",
   "execution_count": 13,
   "metadata": {},
   "outputs": [
    {
     "data": {
      "text/plain": [
       "array([[1, 2, 3]])"
      ]
     },
     "execution_count": 13,
     "metadata": {},
     "output_type": "execute_result"
    }
   ],
   "source": [
    "x[np.newaxis, :]"
   ]
  },
  {
   "cell_type": "code",
   "execution_count": 14,
   "metadata": {},
   "outputs": [
    {
     "data": {
      "text/plain": [
       "array([[1],\n",
       "       [2],\n",
       "       [3]])"
      ]
     },
     "execution_count": 14,
     "metadata": {},
     "output_type": "execute_result"
    }
   ],
   "source": [
    "x.reshape((3, 1))"
   ]
  },
  {
   "cell_type": "code",
   "execution_count": 15,
   "metadata": {},
   "outputs": [
    {
     "data": {
      "text/plain": [
       "array([[1],\n",
       "       [2],\n",
       "       [3]])"
      ]
     },
     "execution_count": 15,
     "metadata": {},
     "output_type": "execute_result"
    }
   ],
   "source": [
    "x[:, np.newaxis]"
   ]
  },
  {
   "cell_type": "code",
   "execution_count": 16,
   "metadata": {},
   "outputs": [
    {
     "data": {
      "text/plain": [
       "array([3, 2, 1, 6, 5, 4])"
      ]
     },
     "execution_count": 16,
     "metadata": {},
     "output_type": "execute_result"
    }
   ],
   "source": [
    "x = np.array([3, 2, 1])\n",
    "y = np.array([6, 5, 4])\n",
    "np.concatenate([x, y]) # menggabungkan dua array"
   ]
  },
  {
   "cell_type": "code",
   "execution_count": 20,
   "metadata": {},
   "outputs": [
    {
     "data": {
      "text/plain": [
       "array([[1, 2, 3],\n",
       "       [9, 8, 7],\n",
       "       [6, 5, 4]])"
      ]
     },
     "execution_count": 20,
     "metadata": {},
     "output_type": "execute_result"
    }
   ],
   "source": [
    "x = np.array([1, 2, 3])\n",
    "grid = np.array([[9, 8, 7],\n",
    "                [6, 5, 4]])\n",
    "np.vstack([x, grid]) # menumpuk dua dimensi array secara vertikal"
   ]
  },
  {
   "cell_type": "code",
   "execution_count": 21,
   "metadata": {},
   "outputs": [
    {
     "data": {
      "text/plain": [
       "array([[ 9,  8,  7, 99],\n",
       "       [ 6,  5,  4, 99]])"
      ]
     },
     "execution_count": 21,
     "metadata": {},
     "output_type": "execute_result"
    }
   ],
   "source": [
    "y = np.array([[99],\n",
    "             [99]])\n",
    "np.hstack([grid, y]) # menggabungkan array secara horizontal"
   ]
  },
  {
   "cell_type": "code",
   "execution_count": 24,
   "metadata": {},
   "outputs": [
    {
     "name": "stdout",
     "output_type": "stream",
     "text": [
      "[[9 8 7]]\n",
      "[[6 5 4]]\n",
      "[[9]\n",
      " [6]]\n",
      "[[8 7]\n",
      " [5 4]]\n"
     ]
    }
   ],
   "source": [
    "upper, lower = np.vsplit(grid, [1]) # memotong array secara vertikal di indeks 1\n",
    "print(upper)\n",
    "print(lower)\n",
    "left, right = np.hsplit(grid, [1]) # memotong array secara horizontal di indeks 1\n",
    "print(left)\n",
    "print(right)"
   ]
  },
  {
   "cell_type": "code",
   "execution_count": null,
   "metadata": {},
   "outputs": [],
   "source": []
  }
 ],
 "metadata": {
  "kernelspec": {
   "display_name": "Python 2",
   "language": "python",
   "name": "python2"
  },
  "language_info": {
   "codemirror_mode": {
    "name": "ipython",
    "version": 2
   },
   "file_extension": ".py",
   "mimetype": "text/x-python",
   "name": "python",
   "nbconvert_exporter": "python",
   "pygments_lexer": "ipython2",
   "version": "2.7.16"
  }
 },
 "nbformat": 4,
 "nbformat_minor": 2
}
